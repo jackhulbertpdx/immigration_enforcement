{
 "cells": [
  {
   "cell_type": "markdown",
   "metadata": {},
   "source": [
    "This notebook contains the data prep for a Tableau dashboard that explores how immigration enforcement changed within each presidential administration from 1925 - 2016. \n",
    "\n",
    "The immigration data was acquired from the Department of Homeland security\n",
    "Presidential term data was acquired from Kaggle\n",
    "Base population data was acquired from Wikipedia"
   ]
  },
  {
   "cell_type": "code",
   "execution_count": null,
   "metadata": {},
   "outputs": [],
   "source": [
    "import pandas as pd\n",
    "import itertools\n",
    "import numpy as np\n",
    "import datetime as dt\n",
    "\n",
    "#Data for Presidential term and party information\n",
    "terms = pd.read_csv('/Users/jackhulbert/Desktop/Data Science Projects/Immigration/Data/us_presidents.csv')\n",
    "\n",
    "#Data for immigration enforcement actions, sourced from DHS.\n",
    "\n",
    "immigration = pd.read_csv('/Users/jackhulbert/Desktop/Data Science Projects/Immigration/Data/ImmigrationEnforcement.csv')"
   ]
  },
  {
   "cell_type": "code",
   "execution_count": 71,
   "metadata": {
    "scrolled": true
   },
   "outputs": [
    {
     "data": {
      "text/html": [
       "<div>\n",
       "<style scoped>\n",
       "    .dataframe tbody tr th:only-of-type {\n",
       "        vertical-align: middle;\n",
       "    }\n",
       "\n",
       "    .dataframe tbody tr th {\n",
       "        vertical-align: top;\n",
       "    }\n",
       "\n",
       "    .dataframe thead th {\n",
       "        text-align: right;\n",
       "    }\n",
       "</style>\n",
       "<table border=\"1\" class=\"dataframe\">\n",
       "  <thead>\n",
       "    <tr style=\"text-align: right;\">\n",
       "      <th></th>\n",
       "      <th>Year</th>\n",
       "      <th>Enforcement Status</th>\n",
       "      <th>Records</th>\n",
       "    </tr>\n",
       "  </thead>\n",
       "  <tbody>\n",
       "    <tr>\n",
       "      <th>0</th>\n",
       "      <td>1925</td>\n",
       "      <td>Apprehended</td>\n",
       "      <td>22199.0</td>\n",
       "    </tr>\n",
       "    <tr>\n",
       "      <th>1</th>\n",
       "      <td>1926</td>\n",
       "      <td>Apprehended</td>\n",
       "      <td>12735.0</td>\n",
       "    </tr>\n",
       "    <tr>\n",
       "      <th>2</th>\n",
       "      <td>1927</td>\n",
       "      <td>Apprehended</td>\n",
       "      <td>16393.0</td>\n",
       "    </tr>\n",
       "    <tr>\n",
       "      <th>3</th>\n",
       "      <td>1928</td>\n",
       "      <td>Apprehended</td>\n",
       "      <td>23566.0</td>\n",
       "    </tr>\n",
       "    <tr>\n",
       "      <th>4</th>\n",
       "      <td>1929</td>\n",
       "      <td>Apprehended</td>\n",
       "      <td>32711.0</td>\n",
       "    </tr>\n",
       "  </tbody>\n",
       "</table>\n",
       "</div>"
      ],
      "text/plain": [
       "   Year Enforcement Status  Records\n",
       "0  1925        Apprehended  22199.0\n",
       "1  1926        Apprehended  12735.0\n",
       "2  1927        Apprehended  16393.0\n",
       "3  1928        Apprehended  23566.0\n",
       "4  1929        Apprehended  32711.0"
      ]
     },
     "execution_count": 71,
     "metadata": {},
     "output_type": "execute_result"
    }
   ],
   "source": [
    "immigration.head()"
   ]
  },
  {
   "cell_type": "code",
   "execution_count": 72,
   "metadata": {},
   "outputs": [
    {
     "data": {
      "text/html": [
       "<div>\n",
       "<style scoped>\n",
       "    .dataframe tbody tr th:only-of-type {\n",
       "        vertical-align: middle;\n",
       "    }\n",
       "\n",
       "    .dataframe tbody tr th {\n",
       "        vertical-align: top;\n",
       "    }\n",
       "\n",
       "    .dataframe thead th {\n",
       "        text-align: right;\n",
       "    }\n",
       "</style>\n",
       "<table border=\"1\" class=\"dataframe\">\n",
       "  <thead>\n",
       "    <tr style=\"text-align: right;\">\n",
       "      <th></th>\n",
       "      <th>Unnamed: 0</th>\n",
       "      <th>S.No.</th>\n",
       "      <th>start</th>\n",
       "      <th>end</th>\n",
       "      <th>president</th>\n",
       "      <th>prior</th>\n",
       "      <th>party</th>\n",
       "      <th>vice</th>\n",
       "      <th>Unnamed: 8</th>\n",
       "      <th>Unnamed: 9</th>\n",
       "      <th>Unnamed: 10</th>\n",
       "      <th>Unnamed: 11</th>\n",
       "      <th>Unnamed: 12</th>\n",
       "    </tr>\n",
       "  </thead>\n",
       "  <tbody>\n",
       "    <tr>\n",
       "      <th>0</th>\n",
       "      <td>0</td>\n",
       "      <td>1</td>\n",
       "      <td>April 30, 1789</td>\n",
       "      <td>March 4, 1797</td>\n",
       "      <td>George Washington</td>\n",
       "      <td>Commander-in-Chief  of the  Continental Army  ...</td>\n",
       "      <td>Nonpartisan   [13]</td>\n",
       "      <td>John Adams</td>\n",
       "      <td>NaN</td>\n",
       "      <td>NaN</td>\n",
       "      <td>NaN</td>\n",
       "      <td>NaN</td>\n",
       "      <td>NaN</td>\n",
       "    </tr>\n",
       "    <tr>\n",
       "      <th>1</th>\n",
       "      <td>1</td>\n",
       "      <td>2</td>\n",
       "      <td>March 4, 1797</td>\n",
       "      <td>March 4, 1801</td>\n",
       "      <td>John Adams</td>\n",
       "      <td>1st  Vice President of the United States</td>\n",
       "      <td>Federalist</td>\n",
       "      <td>Thomas Jefferson</td>\n",
       "      <td>NaN</td>\n",
       "      <td>NaN</td>\n",
       "      <td>NaN</td>\n",
       "      <td>NaN</td>\n",
       "      <td>NaN</td>\n",
       "    </tr>\n",
       "    <tr>\n",
       "      <th>2</th>\n",
       "      <td>2</td>\n",
       "      <td>3</td>\n",
       "      <td>March 4, 1801</td>\n",
       "      <td>March 4, 1809</td>\n",
       "      <td>Thomas Jefferson</td>\n",
       "      <td>2nd  Vice President of the United States</td>\n",
       "      <td>Democratic-  Republican</td>\n",
       "      <td>Aaron Burr</td>\n",
       "      <td>NaN</td>\n",
       "      <td>NaN</td>\n",
       "      <td>NaN</td>\n",
       "      <td>NaN</td>\n",
       "      <td>NaN</td>\n",
       "    </tr>\n",
       "    <tr>\n",
       "      <th>3</th>\n",
       "      <td>3</td>\n",
       "      <td>4</td>\n",
       "      <td>March 4, 1809</td>\n",
       "      <td>March 4, 1817</td>\n",
       "      <td>James Madison</td>\n",
       "      <td>5th  United States Secretary of State   (1801–...</td>\n",
       "      <td>Democratic-  Republican</td>\n",
       "      <td>George Clinton</td>\n",
       "      <td>NaN</td>\n",
       "      <td>NaN</td>\n",
       "      <td>NaN</td>\n",
       "      <td>NaN</td>\n",
       "      <td>NaN</td>\n",
       "    </tr>\n",
       "    <tr>\n",
       "      <th>4</th>\n",
       "      <td>4</td>\n",
       "      <td>5</td>\n",
       "      <td>March 4, 1817</td>\n",
       "      <td>March 4, 1825</td>\n",
       "      <td>James Monroe</td>\n",
       "      <td>7th  United States Secretary of State   (1811–...</td>\n",
       "      <td>Democratic-  Republican</td>\n",
       "      <td>Daniel D. Tompkins</td>\n",
       "      <td>NaN</td>\n",
       "      <td>NaN</td>\n",
       "      <td>NaN</td>\n",
       "      <td>NaN</td>\n",
       "      <td>NaN</td>\n",
       "    </tr>\n",
       "  </tbody>\n",
       "</table>\n",
       "</div>"
      ],
      "text/plain": [
       "   Unnamed: 0  S.No.           start            end          president  \\\n",
       "0           0      1  April 30, 1789  March 4, 1797  George Washington   \n",
       "1           1      2   March 4, 1797  March 4, 1801         John Adams   \n",
       "2           2      3   March 4, 1801  March 4, 1809   Thomas Jefferson   \n",
       "3           3      4   March 4, 1809  March 4, 1817      James Madison   \n",
       "4           4      5   March 4, 1817  March 4, 1825       James Monroe   \n",
       "\n",
       "                                               prior                    party  \\\n",
       "0  Commander-in-Chief  of the  Continental Army  ...       Nonpartisan   [13]   \n",
       "1           1st  Vice President of the United States               Federalist   \n",
       "2           2nd  Vice President of the United States  Democratic-  Republican   \n",
       "3  5th  United States Secretary of State   (1801–...  Democratic-  Republican   \n",
       "4  7th  United States Secretary of State   (1811–...  Democratic-  Republican   \n",
       "\n",
       "                 vice  Unnamed: 8  Unnamed: 9  Unnamed: 10  Unnamed: 11  \\\n",
       "0          John Adams         NaN         NaN          NaN          NaN   \n",
       "1    Thomas Jefferson         NaN         NaN          NaN          NaN   \n",
       "2          Aaron Burr         NaN         NaN          NaN          NaN   \n",
       "3      George Clinton         NaN         NaN          NaN          NaN   \n",
       "4  Daniel D. Tompkins         NaN         NaN          NaN          NaN   \n",
       "\n",
       "   Unnamed: 12  \n",
       "0          NaN  \n",
       "1          NaN  \n",
       "2          NaN  \n",
       "3          NaN  \n",
       "4          NaN  "
      ]
     },
     "execution_count": 72,
     "metadata": {},
     "output_type": "execute_result"
    }
   ],
   "source": [
    "terms.head()"
   ]
  },
  {
   "cell_type": "code",
   "execution_count": 74,
   "metadata": {},
   "outputs": [
    {
     "name": "stderr",
     "output_type": "stream",
     "text": [
      "<ipython-input-74-02f3bdda8864>:3: FutureWarning: This dataframe has a column name that matches the 'value_name' column name of the resultiing Dataframe. In the future this will raise an error, please set the 'value_name' parameter of DataFrame.melt to a unique name.\n",
      "  immigration = immigration.melt(id_vars=[\"Year\"],\n"
     ]
    }
   ],
   "source": [
    "#Pivot Immigration data setdata\n",
    "\n",
    "immigration = immigration.melt(id_vars=[\"Year\"], \n",
    "        var_name=\"Enforcement Status\", \n",
    "        value_name=\"Records\")"
   ]
  },
  {
   "cell_type": "markdown",
   "metadata": {},
   "source": [
    "Since the term dates in the Presidential term dataset only has the starting and ending years, we will need to create records for each year within each term so that the years can be joined to the immigration dataset. We will also need to subtract 1 year from the end of each term to prevent terms from overlapping.\n",
    "\n",
    "First, we subtract the last year from each term.\n",
    "Second, we create new records so that we can join this presidential term data to the immigration data by \"Year\""
   ]
  },
  {
   "cell_type": "code",
   "execution_count": 75,
   "metadata": {},
   "outputs": [],
   "source": [
    "#Remove last year from each presidential term to eliminate overlap between terms\n",
    "\n",
    "terms = terms.fillna(0) #Remova NaN values\n",
    "terms['start'] =  (pd.to_datetime(terms['start']).dt.year).astype(int) \n",
    "terms['end'] = (((pd.to_datetime(terms['end']).dt.year)-1)).astype(int) #Remove one so grouping is clean between presidential terms and annual counts. By subtracting 1 we are discounting the first 3 months leading up to inaguration date of the new president. There are exceptions from this for cases of impeachment and death in office \n",
    "\n",
    "#Create new records for years in each term range\n",
    "terms['Year']=[list(range(x,y+1)) for x , y in zip(terms['start'],terms['end'])]\n",
    "terms=terms.explode('Year')\n",
    "#Write to new file\n",
    "terms.to_csv('terms.csv')"
   ]
  },
  {
   "cell_type": "markdown",
   "metadata": {},
   "source": [
    "( Exploratory Step )\n",
    "I found a dataset that gives the total immigrant population in the US by decade from 1920-Present day. I wanted to create a calculation that puts the # of immigration enforcement events into more context."
   ]
  },
  {
   "cell_type": "code",
   "execution_count": 62,
   "metadata": {},
   "outputs": [],
   "source": [
    "#Read data\n",
    "basepop = pd.read_csv('/Users/jackhulbert/Desktop/Data Science Projects/Immigration/Data/Immigration Population.csv')\n",
    "#Create field for the end of the decade\n",
    "basepop['end decade'] = basepop['Year']+10\n",
    "\n",
    "#Create record for each year in each decade so that we can join by Year with our Terms dataset.\n",
    "\n",
    "basepop['Census Est']=[list(range(x,y+1)) for x , y in zip(basepop['Year'],basepop['end decade'])]\n",
    "basepop=basepop.explode('Census Est')\n",
    "\n",
    "#Join data sets on \"Year\" and convert all values to float.\n",
    "immigration_merged = immigration.merge(basepop,how='inner',left_on='Year',right_on='Census Est')\n",
    "immigration_merged['Number of'].apply(lambda x: float(x))\n",
    "\n",
    "#Compute a \"Per Capita\" metric for the immigration statistics to give context to our analysis\n",
    "immigration_merged['Per Capita'] = immigration_merged['Records'] /  (immigration_merged['Number of'])\n",
    "\n",
    "#Write to new file\n",
    "immigration_merged.to_csv('pivoted_data.csv')\n",
    "\n",
    "\n"
   ]
  },
  {
   "cell_type": "code",
   "execution_count": null,
   "metadata": {},
   "outputs": [],
   "source": []
  },
  {
   "cell_type": "code",
   "execution_count": null,
   "metadata": {},
   "outputs": [],
   "source": [
    "\n",
    "    \n"
   ]
  },
  {
   "cell_type": "code",
   "execution_count": null,
   "metadata": {},
   "outputs": [],
   "source": []
  },
  {
   "cell_type": "code",
   "execution_count": null,
   "metadata": {},
   "outputs": [],
   "source": []
  }
 ],
 "metadata": {
  "kernelspec": {
   "display_name": "Python 3",
   "language": "python",
   "name": "python3"
  },
  "language_info": {
   "codemirror_mode": {
    "name": "ipython",
    "version": 3
   },
   "file_extension": ".py",
   "mimetype": "text/x-python",
   "name": "python",
   "nbconvert_exporter": "python",
   "pygments_lexer": "ipython3",
   "version": "3.8.5"
  }
 },
 "nbformat": 4,
 "nbformat_minor": 4
}
